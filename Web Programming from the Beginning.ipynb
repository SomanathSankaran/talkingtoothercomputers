{
 "cells": [
  {
   "cell_type": "markdown",
   "metadata": {},
   "source": [
    "# The Web from the Beginning\n",
    "\n",
    "## Intro\n",
    "[Exercise Guide #1: Chat Client](chatclient.ipynb)\n",
    "* Problem: What are we doing here, anyway?\n",
    "* Exercise: Connect to chat server with Python\n",
    "* Project: Chat client\n",
    "\n",
    "## Connecting Computers (Physical layer)\n",
    "[Exercise Guide #2: Simple Server](chatserver.ipynb)\n",
    "* Problem: How do I get information from one machine to another? Encoding/protocols (abstract)\n",
    "* Exercise: Talk to neighbour using netcat\n",
    "\n",
    "BREAK\n",
    "\n",
    "## The Internet (TCP/IP)\n",
    "* Problem: How do I find the machine I want to connect to? (TCP/IP, DNS)\n",
    "* Demo: Wireshark on chat\n",
    "* Demo: Text-based protocols\n",
    "* Exercises: Chat server\n",
    "\n",
    "## The Web (HTTP/HTML)\n",
    "[Exercise Guide #3: Speaking HTTP](http.ipynb)\n",
    "* Problem: How do I get information I don’t know I need?\n",
    "* Exercise: View Source in browser\n",
    "* Exercise: nc as http client/server\n",
    "* Project: Web server\n",
    "\n",
    "BREAK\n",
    "\n",
    "## Web Scripting (Perl/PHP)\n",
    "[Exercise Guide #4: CGI and WSGI](cgiandwsgi.ipynb)\n",
    "* Problem: How do I get information that doesn’t yet exist?\n",
    "* Exercise: CGI script\n",
    "\n",
    "## Conclusion (Frameworks, WSGI, client-side)\n",
    "* Problem: So where are we now?\n",
    "* Exercise: WSGI server"
   ]
  }
 ],
 "metadata": {
  "kernelspec": {
   "display_name": "Python 3",
   "language": "python",
   "name": "python3"
  },
  "language_info": {
   "codemirror_mode": {
    "name": "ipython",
    "version": 3
   },
   "file_extension": ".py",
   "mimetype": "text/x-python",
   "name": "python",
   "nbconvert_exporter": "python",
   "pygments_lexer": "ipython3",
   "version": "3.6.1"
  }
 },
 "nbformat": 4,
 "nbformat_minor": 2
}
