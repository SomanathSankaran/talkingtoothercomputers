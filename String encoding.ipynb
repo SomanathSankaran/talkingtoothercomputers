{
 "cells": [
  {
   "cell_type": "markdown",
   "metadata": {},
   "source": [
    "# String encoding in Python 3"
   ]
  },
  {
   "cell_type": "markdown",
   "metadata": {},
   "source": [
    "In Python we have strings, also known as unicode strings:"
   ]
  },
  {
   "cell_type": "code",
   "execution_count": 1,
   "metadata": {
    "collapsed": false
   },
   "outputs": [
    {
     "data": {
      "text/plain": [
       "'hello'"
      ]
     },
     "execution_count": 1,
     "metadata": {},
     "output_type": "execute_result"
    }
   ],
   "source": [
    "'hello'  # or u'hello'; the leading \"u\" is optional"
   ]
  },
  {
   "cell_type": "markdown",
   "metadata": {},
   "source": [
    "In Python we also have byte strings:"
   ]
  },
  {
   "cell_type": "code",
   "execution_count": 2,
   "metadata": {
    "collapsed": false
   },
   "outputs": [
    {
     "data": {
      "text/plain": [
       "b'\\x01\\x02\\x03'"
      ]
     },
     "execution_count": 2,
     "metadata": {},
     "output_type": "execute_result"
    }
   ],
   "source": [
    "bytes([1,2,3])"
   ]
  },
  {
   "cell_type": "markdown",
   "metadata": {},
   "source": [
    "Bytes are how computers store data! They are numbers from 0 to 255."
   ]
  },
  {
   "cell_type": "markdown",
   "metadata": {},
   "source": [
    "![]("
   ]
  },
  {
   "cell_type": "markdown",
   "metadata": {},
   "source": [
    "Numbers don't mean anything, but there's a simple mapping of half of these numbers to English letters, numbers, and control characters called ASCII that's so ingrained in Python that if you print a bytestring with bytes from 32 to 126, they'll be displayed as their corresponding characters!"
   ]
  },
  {
   "cell_type": "code",
   "execution_count": 3,
   "metadata": {
    "collapsed": false
   },
   "outputs": [
    {
     "data": {
      "text/plain": [
       "b'ABC\\x03\\x04\\x05'"
      ]
     },
     "execution_count": 3,
     "metadata": {},
     "output_type": "execute_result"
    }
   ],
   "source": [
    "bytes([65, 66, 67, 3, 4, 5])"
   ]
  },
  {
   "cell_type": "code",
   "execution_count": 4,
   "metadata": {
    "collapsed": false
   },
   "outputs": [
    {
     "data": {
      "text/plain": [
       "b'Hello'"
      ]
     },
     "execution_count": 4,
     "metadata": {},
     "output_type": "execute_result"
    }
   ],
   "source": [
    "b'Hello'  # we can write bytestrings like this too"
   ]
  },
  {
   "cell_type": "markdown",
   "metadata": {},
   "source": [
    "Sockets can be used to send any kind of information - text, jpegs, pdfs, or lists of numbers; so they send and receive bytes! But if you're a human reading or writing text, you want to use strings so you can use characters not in the ASCII set."
   ]
  },
  {
   "cell_type": "code",
   "execution_count": 5,
   "metadata": {
    "collapsed": false
   },
   "outputs": [
    {
     "name": "stdout",
     "output_type": "stream",
     "text": [
      "Hello, I’m ”Sidney San Martín.“ 私はユニコードを使いたい and 😄\n"
     ]
    },
    {
     "data": {
      "text/plain": [
       "str"
      ]
     },
     "execution_count": 5,
     "metadata": {},
     "output_type": "execute_result"
    }
   ],
   "source": [
    "type(input())  # input() returns a string"
   ]
  },
  {
   "cell_type": "markdown",
   "metadata": {},
   "source": [
    "If you have a string from input or anywhere else, you'll need to encode it into bytes in order to send it. Strings have an encoded method, and the most useful encoding it `utf-8`."
   ]
  },
  {
   "cell_type": "markdown",
   "metadata": {},
   "source": [
    "![](http://eli.thegreenplace.net/images/2012/01/py3_string_bytes.png)"
   ]
  },
  {
   "cell_type": "code",
   "execution_count": 6,
   "metadata": {
    "collapsed": false
   },
   "outputs": [
    {
     "data": {
      "text/plain": [
       "b'Hello, I\\xe2\\x80\\x99m \\xe2\\x80\\x9dSidney San Mart\\xc3\\xadn.\\xe2\\x80\\x9c \\xe7\\xa7\\x81\\xe3\\x81\\xaf\\xe3\\x83\\xa6\\xe3\\x83\\x8b\\xe3\\x82\\xb3\\xe3\\x83\\xbc\\xe3\\x83\\x89\\xe3\\x82\\x92\\xe4\\xbd\\xbf\\xe3\\x81\\x84\\xe3\\x81\\x9f\\xe3\\x81\\x84 and \\xf0\\x9f\\x98\\x84'"
      ]
     },
     "execution_count": 6,
     "metadata": {},
     "output_type": "execute_result"
    }
   ],
   "source": [
    "message = \"Hello, I’m ”Sidney San Martín.“ 私はユニコードを使いたい and 😄\"\n",
    "encoded_message = message.encode('utf-8')\n",
    "encoded_message"
   ]
  },
  {
   "cell_type": "markdown",
   "metadata": {},
   "source": [
    "When you receive bytes from a socket or a file opened in binary mode, the bytes might represent encoded text:"
   ]
  },
  {
   "cell_type": "code",
   "execution_count": 7,
   "metadata": {
    "collapsed": false
   },
   "outputs": [
    {
     "data": {
      "text/plain": [
       "'私はユ'"
      ]
     },
     "execution_count": 7,
     "metadata": {},
     "output_type": "execute_result"
    }
   ],
   "source": [
    "data = b'\\xe7\\xa7\\x81\\xe3\\x81\\xaf\\xe3\\x83\\xa6'\n",
    "data.decode('utf-8')"
   ]
  },
  {
   "cell_type": "markdown",
   "metadata": {},
   "source": [
    "But the bytes might also represent numbers, or an image file, or anything else! There are many ways to interpret a series of bytes."
   ]
  },
  {
   "cell_type": "code",
   "execution_count": 9,
   "metadata": {
    "collapsed": false
   },
   "outputs": [
    {
     "data": {
      "text/plain": [
       "(-478042137, -20607, -31773, -90)"
      ]
     },
     "execution_count": 9,
     "metadata": {},
     "output_type": "execute_result"
    }
   ],
   "source": [
    "data = b'\\xe7\\xa7\\x81\\xe3\\x81\\xaf\\xe3\\x83\\xa6'\n",
    "import struct\n",
    "struct.unpack('ihhb', data)"
   ]
  },
  {
   "cell_type": "markdown",
   "metadata": {},
   "source": [
    "Suggestioned reading:\n",
    "    * https://nedbatchelder.com/text/unipain.html\n",
    "    * http://eli.thegreenplace.net/2012/01/30/the-bytesstr-dichotomy-in-python-3"
   ]
  }
 ],
 "metadata": {
  "kernelspec": {
   "display_name": "Python 3",
   "language": "python",
   "name": "python3"
  },
  "language_info": {
   "codemirror_mode": {
    "name": "ipython",
    "version": 3
   },
   "file_extension": ".py",
   "mimetype": "text/x-python",
   "name": "python",
   "nbconvert_exporter": "python",
   "pygments_lexer": "ipython3",
   "version": "3.5.0"
  }
 },
 "nbformat": 4,
 "nbformat_minor": 0
}
