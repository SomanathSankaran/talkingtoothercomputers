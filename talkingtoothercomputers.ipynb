{
 "cells": [
  {
   "cell_type": "markdown",
   "metadata": {
    "slideshow": {
     "slide_type": "notes"
    }
   },
   "source": [
    "# Prep tasks\n",
    "\n",
    "Before the workshop, make sure everyone:\n",
    "\n",
    "* has Python 3 installed\n",
    "* can run Python 3 at the command line\n",
    "* can write Python code in a text editor and run it at the command line\n",
    "* has netcat installed; should already be everywhere except on Windows, where we'll need to install netcat (let's use the nmap one: https://nmap.org/download.html)\n",
    "* try connecting to our server with your netcat and type out a message of your name\n",
    "* need admin access to their computer\n",
    "* google hangout\n",
    "\n",
    "\n",
    "ask people to come early if you still haven't done this\n",
    "\n",
    "ask for volunteers for participants to come early and make sure things are working"
   ]
  },
  {
   "cell_type": "markdown",
   "metadata": {
    "slideshow": {
     "slide_type": "slide"
    }
   },
   "source": [
    "Welcome!\n",
    "--------\n",
    "\n",
    "Get logged onto the wifi (use *our* wifi, not the official conference wifi).\n",
    "Open a terminal and use nc to the ip address on the board:\n",
    "\n",
    "mac and linux:\n",
    "`nc ip_address_from_the_board 1234`\n",
    "windows:\n",
    "TODO somethign like netcat ips -p \n",
    "\n",
    "Let a helper know if you'd like help.\n",
    "\n",
    "Once you've connected please put a green sticky note on your laptop so I can see it.\n",
    "\n",
    "If you have questions at any point (including while I'm talking) feel free to raise your hand or ask a question in this terminal you just opened."
   ]
  },
  {
   "cell_type": "markdown",
   "metadata": {
    "slideshow": {
     "slide_type": "subslide"
    }
   },
   "source": [
    "Sticky Notes\n",
    "===\n",
    "\n",
    "Red means *\"I want help\"* or *\"Slow down\"*\n",
    "---\n",
    "\n",
    "Green means *\"I'm finished\"* or *\"I understand\"*\n",
    "---\n",
    "\n"
   ]
  },
  {
   "cell_type": "markdown",
   "metadata": {
    "slideshow": {
     "slide_type": "notes"
    }
   },
   "source": [
    "* Put up a red sticky note if you've got a question and want to talk to a helper about it.\n",
    "* Put up a green sticky note when we're doing an exercise and you've finished.\n",
    "* Put up a red or green sticky note when I ask how everyone feels about something to help me know whether we should keep working on something or move on."
   ]
  },
  {
   "cell_type": "markdown",
   "metadata": {
    "slideshow": {
     "slide_type": "subslide"
    }
   },
   "source": [
    "Helpers\n",
    "-------\n",
    "\n"
   ]
  },
  {
   "cell_type": "markdown",
   "metadata": {
    "slideshow": {
     "slide_type": "notes"
    }
   },
   "source": [
    "TODO: get names of PyCon helpers, ask for contact info to put at end if they want"
   ]
  },
  {
   "cell_type": "markdown",
   "metadata": {
    "slideshow": {
     "slide_type": "subslide"
    }
   },
   "source": [
    "Notes\n",
    "---\n",
    "\n",
    "* all code - file for each exercise\n",
    "* handouts: outline, description of exercises, additional challenge projects + extra info required for\n",
    "\n",
    "ballingt.com/othercomputers"
   ]
  },
  {
   "cell_type": "markdown",
   "metadata": {
    "slideshow": {
     "slide_type": "slide"
    }
   },
   "source": [
    "Activity: Open up a second terminal and open interactive Python interpreter and square 3294\n",
    "===\n",
    "\n",
    "Put a **green sticky** up when you know what 3294 squared is using an interactive Python interpreter."
   ]
  },
  {
   "cell_type": "markdown",
   "metadata": {
    "collapsed": true,
    "slideshow": {
     "slide_type": "notes"
    }
   },
   "source": [
    "This is a practice activity to make sure people can write Python code outside of their text editors.\n",
    "\n",
    "Many people aren't comfortable writing code in a REPL, so although some exercises work better in a REPL, we'll let people do them in their text editors and show the immediate feedback of a REPL on the projector."
   ]
  },
  {
   "cell_type": "markdown",
   "metadata": {
    "collapsed": true,
    "slideshow": {
     "slide_type": "notes"
    }
   },
   "source": [
    "# About this workshop\n",
    "\n",
    "This workshop is designed to be preparation for getting into a good book about network programming,\n",
    "or helpful background before getting into web programming, or a fun exploration of lower level network programming than most developers get to make use of on a regular basis.\n",
    "\n",
    "PHRASE MORE POSITIVELY - thinkg about things \n",
    "\n",
    "* list useful thigns\n",
    "\"not directly practical\"\n",
    "\n",
    "This workshop is not very practical, in that most of the code we will be writing is not code you would actually use. These problems have been solved before!\n",
    "\n",
    "Mention the books here - \n",
    "\n",
    "Some tutorials (now sold out) that are more practical:\n",
    "\n",
    "* Let's build a web framework! - Jacob Kaplan-Moss\n",
    "* Creating And Consuming Modern Web Services with Twisted - Moshe Zadka, Glyph\n",
    "* Microservices with Python and Flask - Miguel Grinberg\n",
    "\n",
    "The hope is that this workshop will give you some vocabulary and some hooks to hang other knowledge on later.\n",
    "\n",
    "Debugging frame of mind - your computer being weird is a chance for us to learn something! TODO"
   ]
  },
  {
   "cell_type": "markdown",
   "metadata": {
    "slideshow": {
     "slide_type": "slide"
    }
   },
   "source": [
    "Part 1: The Internet\n",
    "==="
   ]
  },
  {
   "cell_type": "markdown",
   "metadata": {
    "slideshow": {
     "slide_type": "notes"
    }
   },
   "source": [
    "Question for everyone: What was the internet like in the eighties?\n",
    "\n",
    "* Users of the same mainframe can send each other messages\n",
    "* BBS\n",
    "* email\n",
    "* IRC\n",
    "\n",
    "What was the internet like in the nineties?\n",
    "\n",
    "* 1993 - static html pages (hundreds of web sites)\n",
    "* 1995 - server-side scripting\n",
    "* 1997 - cgi\n",
    "* 2000 - Ajax\n",
    "* 2011 - websockets\n",
    "\n",
    "The point being that the internet is larger than just the web. (learning goal: difference between the internet and the web)"
   ]
  },
  {
   "cell_type": "markdown",
   "metadata": {
    "slideshow": {
     "slide_type": "slide"
    }
   },
   "source": [
    "Exercise - connect to the chat server with a socket in Python.\n",
    "---\n",
    "\n",
    "~~~\n",
    "import socket\n",
    "s = socket.socket()\n",
    "s.connect(('ipaddress', 1234))\n",
    "s.send(b'hello, this is Tom')\n",
    "~~~"
   ]
  },
  {
   "cell_type": "markdown",
   "metadata": {
    "slideshow": {
     "slide_type": "notes"
    }
   },
   "source": [
    "TODO: insert current ip address here"
   ]
  },
  {
   "cell_type": "markdown",
   "metadata": {
    "slideshow": {
     "slide_type": "slide"
    }
   },
   "source": [
    "TCP Sockets\n",
    "---\n",
    "\n",
    "Questions? (there should be a lot)\n"
   ]
  },
  {
   "cell_type": "markdown",
   "metadata": {
    "slideshow": {
     "slide_type": "subslide"
    }
   },
   "source": [
    "TCP Sockets:\n",
    "\n",
    "* bidirectional - try calling recv(1000) with your socket\n",
    "* send bytestrings\n",
    "* single use (one connection per socket)"
   ]
  },
  {
   "cell_type": "markdown",
   "metadata": {
    "slideshow": {
     "slide_type": "notes"
    }
   },
   "source": [
    "Some of the questions we hope to get to:\n",
    "\n",
    "**What's going on here?**\n",
    "Your computer makes radio waves that are interpreted by a router, which reads the first few bytes of them and decides where to send them based on rules to do with the number.\n",
    "\n",
    "**What is a socket object?**\n",
    "It's similar to a file object in that it's a thing with methods that lets us make requests of the operating system. The conversation we have with the operating system is similar too: please \n",
    "\n",
    "**What's an ip address?**\n",
    "IP addresses. Each of our computers has one, given to it by the router we're connected to.\n",
    "\n",
    "**What is a port?**\n",
    "A way to distinguish between different things on the same computer that you want to connect to. Some people say it's like a name at the top of an address - the mail service gets this to the right computer via the ip address, but once it gets there there still might be multiple people, and someone in charge of mail has to give it to the right person.\n",
    "\n",
    "**Internal/external IP addresses?**\n",
    "There aren't enough IP addresses (256^4) for everyone to have one, so the ip address you have right now isn't actually unique. We'll talk about this later.\n",
    "\n",
    "**Why the b'' in front of the string?**\n",
    "see bytes discussion in a bit\n",
    "\n",
    "**Why are we on a special wifi network?**\n",
    "see internal/external ip addresses, plus some additional security\n",
    "\n",
    "**Can I get hacked from this?**\n",
    "You are receiving bytes back from this server - you have no idea what those bytes will be. You're printing them to your terminal - as long as your terminal is secure, meaning there's no sequence of bytes that could do something you don't want it to, you're safe. The color of your terminal text could be changed, the title of your terminal could be changed, your terminal could make a bunch of beeping noises; but you should be ok. What's important is what you do with this data. Python and your operating system also need to be careful not to do anything untoward with these bytes."
   ]
  },
  {
   "cell_type": "markdown",
   "metadata": {
    "slideshow": {
     "slide_type": "slide"
    }
   },
   "source": [
    "Project: Write a chat client\n",
    "--\n",
    "\n",
    "Let's write a program similar to `nc` that we've been using to chat. It should\n",
    "* connect to the server\n",
    "* ask for input from the user\n",
    "* send that input to the server\n",
    "* receive data from the server\n",
    "* display that data\n",
    "\n",
    "https://docs.python.org/3/library/socket.html\n",
    "\n",
    "Here's some of the code you'll need\n",
    "* `socket.socket()` - creates a new socket\n",
    "* `socket.connect(('123.123.123.123', 1234))` - tells OS what address we want this socket to send data to. Be careful to use a tuple!\n",
    "* `socket.recv(1234)` - receive up to this number of bytes\n",
    "* `input()` - get message from the user\n",
    "* `socket.send()`\n",
    "* `while True:` - loop forever\n",
    "* .encode() method on strings"
   ]
  },
  {
   "cell_type": "markdown",
   "metadata": {
    "slideshow": {
     "slide_type": "subslide"
    }
   },
   "source": [
    "How we'll do projects\n",
    "---\n",
    "\n",
    "You have about 15 minutes. I'll start making progress building my own on the projector in about 5 minutes. If you're stuck in 5 minutes, you can follow along then.\n",
    "\n",
    "The goal here is to \n",
    "\n",
    "If you'd like a more advanced track, check out the\n",
    "\n",
    "For some of this, you'll need notes for the next section, which deals with concurrency.\n",
    "\n",
    "* nicer prompting\n",
    "* format messages that come in: jailbreak that patriachy\n",
    "* write two programs: one that listens for input, another that receives messages full time\n",
    "* use threads listen for messages and read user input at the same time, printing incoming messages in real time.\n",
    "* use select on stdin and the socket to do the same thing (unix only)"
   ]
  },
  {
   "cell_type": "markdown",
   "metadata": {
    "slideshow": {
     "slide_type": "notes"
    }
   },
   "source": [
    "## Optional advanced section\n",
    "\n",
    "Problems with this version: if we want to see what's happening, we need to send a message! This seems like a fundemental limitation of `.send()` and `.recv()` as we've learned them: these are both blocking calls.\n",
    "\n",
    "Networked applications tend to have to deal with concurrency.\n",
    "\n",
    "## TODO: create a handout that walks people through this\n",
    "\n",
    "Solutions:\n",
    "    * use separate programs\n",
    "    * threads\n",
    "    * nonblocking sockets\n",
    "    * use select\n",
    " "
   ]
  },
  {
   "cell_type": "code",
   "execution_count": 3,
   "metadata": {
    "collapsed": true,
    "slideshow": {
     "slide_type": "slide"
    }
   },
   "outputs": [],
   "source": [
    "#The minimum implementation on the projector will be a while loop,\n",
    "#alternately sending a line of text if line isn’t blank\n",
    "#and printing bytes received from a socket.\n",
    "\n",
    "import socket\n",
    "\n",
    "def main():\n",
    "    s = socket.socket()\n",
    "    s.connect(('123.456.789.012', 1234))\n",
    "    while True:\n",
    "        message_to_send = raw_input('msg: ')\n",
    "        if message_to_send:\n",
    "            s.send(message_to_send.encode('ascii'))\n",
    "        print(s.recv(1000))"
   ]
  },
  {
   "cell_type": "markdown",
   "metadata": {
    "slideshow": {
     "slide_type": "slide"
    }
   },
   "source": [
    "## How could we make our group chat better?"
   ]
  },
  {
   "cell_type": "markdown",
   "metadata": {
    "slideshow": {
     "slide_type": "notes"
    }
   },
   "source": [
    "Some possibilities\n",
    "* useful to know who send a message\n",
    "* allow non-ascii characters\n",
    "* keep track of names\n",
    "* send private messages\n",
    "* allow file transfers\n",
    "* show if user is typing\n",
    "* encrypt messages\n",
    "\n",
    "Hopefully during the tutorial we'll implement usernames. This is what a protocol is!"
   ]
  },
  {
   "cell_type": "markdown",
   "metadata": {
    "slideshow": {
     "slide_type": "notes"
    }
   },
   "source": [
    "What's a protcol? A set of rules. We don't have usernames on the chat.\n",
    "\n",
    "What if we all agreed to do this?\n",
    "\n",
    "Exercise:\n",
    "Modify your client to write your name, then a colon, then your message.\n",
    "If you'd prefer, start with the implementation above in the notes."
   ]
  },
  {
   "cell_type": "markdown",
   "metadata": {
    "slideshow": {
     "slide_type": "slide"
    }
   },
   "source": [
    "Protocols\n",
    "=========\n",
    "\n",
    "A protocol: some rules about what bytes to send\n",
    "\n"
   ]
  },
  {
   "cell_type": "markdown",
   "metadata": {
    "slideshow": {
     "slide_type": "slide"
    }
   },
   "source": [
    "SMTP\n",
    "----\n",
    "\n",
    "Email works the same way: https://tools.ietf.org/html/rfc821\n"
   ]
  },
  {
   "cell_type": "markdown",
   "metadata": {
    "slideshow": {
     "slide_type": "subslide"
    }
   },
   "source": [
    "[![](http://ballingt.com/assets/sendemail.gif)](https://asciinema.org/a/40406)"
   ]
  },
  {
   "cell_type": "markdown",
   "metadata": {
    "slideshow": {
     "slide_type": "notes"
    }
   },
   "source": [
    "~~~\n",
    "telnet 74.125.22.26 25\n",
    "HELO thomasballinger.com\n",
    "MAIL FROM: <me@thomasballinger.com>\n",
    "RCPT TO:<ballingt@gmail.com>\n",
    "DATA\n",
    "From: <thomasballinger@gmail.com>\n",
    "subject: testing\n",
    "\n",
    "hello!\n",
    ".\n",
    "QUIT\n",
    "~~~~\n"
   ]
  },
  {
   "cell_type": "markdown",
   "metadata": {
    "slideshow": {
     "slide_type": "subslide"
    }
   },
   "source": [
    "![](http://ballingt.com/assets/receivedemail.png)"
   ]
  },
  {
   "cell_type": "markdown",
   "metadata": {
    "slideshow": {
     "slide_type": "slide"
    }
   },
   "source": [
    "http://blog.annharter.com/2015/07/15/three-dead-protocols.html\n",
    "\n",
    "\n",
    "QOTD: https://tools.ietf.org/html/rfc865\n",
    "\n",
    "    nc pchs.co 17\n",
    "\n",
    "Daytime Protocol: https://tools.ietf.org/html/rfc867\n",
    "\n",
    "    nc pchs.co 13\n",
    "    \n",
    "Echo Protocol: https://tools.ietf.org/html/rfc862\n",
    "    \n",
    "    nc pchs.co 7"
   ]
  },
  {
   "cell_type": "markdown",
   "metadata": {
    "slideshow": {
     "slide_type": "slide"
    }
   },
   "source": [
    "What's really going on?\n",
    "--\n",
    "\n",
    "(Wireshark interlude)\n",
    "\n",
    "\n",
    "https://www.wireshark.org/"
   ]
  },
  {
   "cell_type": "markdown",
   "metadata": {
    "slideshow": {
     "slide_type": "notes"
    }
   },
   "source": [
    "* look at some of interesting traffic\n",
    "* talk about what a TCP connection is, allude to the features of TCP\n",
    "\n",
    "This could be a big talk section?\n",
    "TODO add things to talk about here\n",
    "\n",
    "References:\n",
    "    \n",
    "    * Networking ACK - https://jvns.ca/blog/networking-zine-launch/"
   ]
  },
  {
   "cell_type": "code",
   "execution_count": 9,
   "metadata": {
    "slideshow": {
     "slide_type": "notes"
    }
   },
   "outputs": [
    {
     "ename": "SyntaxError",
     "evalue": "invalid syntax (<ipython-input-9-d3dfb98a2696>, line 1)",
     "output_type": "error",
     "traceback": [
      "\u001b[0;36m  File \u001b[0;32m\"<ipython-input-9-d3dfb98a2696>\"\u001b[0;36m, line \u001b[0;32m1\u001b[0m\n\u001b[0;31m    Examples:\u001b[0m\n\u001b[0m            ^\u001b[0m\n\u001b[0;31mSyntaxError\u001b[0m\u001b[0;31m:\u001b[0m invalid syntax\n"
     ]
    }
   ],
   "source": [
    "Examples:\n",
    "* FTP\n",
    "* HTTP\n",
    "* IMAP4\n",
    "* POP3\n",
    "* SMTP\n",
    "* SSH\n",
    "* Telnet\n",
    "* IRC"
   ]
  },
  {
   "cell_type": "markdown",
   "metadata": {
    "slideshow": {
     "slide_type": "slide"
    }
   },
   "source": [
    "The Web\n",
    "=======\n",
    "\n",
    "* HTTP\n",
    "* HTML\n",
    "\n",
    "Now it's 1993.\n",
    "\n",
    "\n",
    "This is how this is different from "
   ]
  },
  {
   "cell_type": "markdown",
   "metadata": {
    "slideshow": {
     "slide_type": "slide"
    }
   },
   "source": [
    "Exercise: Manual http requests/responses with Python sockets.\n",
    "--------\n",
    "\n",
    "~~~\n",
    ">>> import socket\n",
    ">>> s = socket.socket()\n",
    ">>> s.connect(('www.google.com', 80))  # how does that become an up address?\n",
    ">>> s.send(b'GET /\\n\\n')\n",
    ">>> s.recv(10000)\n",
    "~~~"
   ]
  },
  {
   "cell_type": "markdown",
   "metadata": {
    "slideshow": {
     "slide_type": "notes"
    }
   },
   "source": [
    "We just tried a new protocol: HTTP"
   ]
  },
  {
   "cell_type": "markdown",
   "metadata": {
    "slideshow": {
     "slide_type": "slide"
    }
   },
   "source": [
    "from https://en.wikipedia.org/wiki/Hypertext_Transfer_Protocol#Example_session\n",
    "---\n",
    "~~~\n",
    "    GET /index.html HTTP/1.1\n",
    "    Host: www.example.com\n",
    "    \n",
    "(with an empty line at the end)\n",
    "~~~\n"
   ]
  },
  {
   "cell_type": "markdown",
   "metadata": {
    "slideshow": {
     "slide_type": "slide"
    }
   },
   "source": [
    "from https://en.wikipedia.org/wiki/Hypertext_Transfer_Protocol#Example_session\n",
    "---\n",
    "~~~\n",
    "HTTP/1.1 200 OK\n",
    "Date: Mon, 23 May 2005 22:38:34 GMT\n",
    "Content-Type: text/html; charset=UTF-8\n",
    "Content-Encoding: UTF-8\n",
    "Content-Length: 138\n",
    "Last-Modified: Wed, 08 Jan 2003 23:11:55 GMT\n",
    "Server: Apache/1.3.3.7 (Unix) (Red-Hat/Linux)\n",
    "ETag: \"3f80f-1b6-3e1cb03b\"\n",
    "Accept-Ranges: bytes\n",
    "Connection: close\n",
    "\n",
    "<html>\n",
    "<head>\n",
    "  <title>An Example Page</title>\n",
    "</head>\n",
    "<body>\n",
    "  Hello World, this is a very simple HTML document.\n",
    "</body>\n",
    "</html>\n",
    "~~~"
   ]
  },
  {
   "cell_type": "markdown",
   "metadata": {
    "slideshow": {
     "slide_type": "slide"
    }
   },
   "source": [
    "What do we know about HTTP?\n",
    "---\n",
    "\n",
    "https://en.wikipedia.org/wiki/List_of_HTTP_status_codes"
   ]
  },
  {
   "cell_type": "code",
   "execution_count": null,
   "metadata": {
    "collapsed": true
   },
   "outputs": [],
   "source": [
    "HTTP is:\n",
    "    * used to retrieve all kinds of things\n",
    "    \n",
    "Explain urls!     "
   ]
  },
  {
   "cell_type": "markdown",
   "metadata": {
    "slideshow": {
     "slide_type": "slide"
    }
   },
   "source": [
    "\n",
    "\n",
    "\n",
    "Project: write an http client - only prereq is url parsing\n",
    "------\n",
    "\n",
    "* read the site from command line arguments or raw_input\n",
    "* download it and put it in a file\n",
    "* just put the content in a file, not the whole response"
   ]
  },
  {
   "cell_type": "markdown",
   "metadata": {
    "slideshow": {
     "slide_type": "subslide"
    }
   },
   "source": [
    "HTTP Client Resources:\n",
    "----------------------\n",
    "* Example Session: https://en.wikipedia.org/wiki/Hypertext_Transfer_Protocol#Example_session\n",
    "* Curl: https://en.wikipedia.org/wiki/CURL#Examples_of_cURL_use_from_command_line\n",
    "* HTTP 0.9 Spec https://www.w3.org/Protocols/HTTP/AsImplemented.html"
   ]
  },
  {
   "cell_type": "markdown",
   "metadata": {
    "collapsed": true,
    "slideshow": {
     "slide_type": "slide"
    }
   },
   "source": [
    "Resources:\n",
    "\n",
    "* Implementing simple network protocols: http://blog.annharter.com/2015/07/15/three-dead-protocols.html\n",
    "* More about HTTP: http://www.harihareswara.net/hidden-features-in-http-gwo-2016.pdf\n"
   ]
  },
  {
   "cell_type": "markdown",
   "metadata": {
    "slideshow": {
     "slide_type": "notes"
    }
   },
   "source": [
    "TODO write an implementation people can copy\n",
    "\n",
    "(writing curl)"
   ]
  },
  {
   "cell_type": "markdown",
   "metadata": {
    "slideshow": {
     "slide_type": "slide"
    }
   },
   "source": [
    "The server side of sockets\n",
    "---"
   ]
  },
  {
   "cell_type": "markdown",
   "metadata": {
    "slideshow": {
     "slide_type": "notes"
    }
   },
   "source": [
    "So sockets are a conversation with the operating system? We can ask it some other things.\n",
    "\n",
    "What's the "
   ]
  },
  {
   "cell_type": "code",
   "execution_count": null,
   "metadata": {
    "collapsed": true
   },
   "outputs": [],
   "source": [
    "Use netcat to see and respond to an HTTP request."
   ]
  },
  {
   "cell_type": "markdown",
   "metadata": {
    "slideshow": {
     "slide_type": "slide"
    }
   },
   "source": [
    "Exercise: let's look at an HTTP request\n",
    "---\n",
    "\n",
    "~~~\n",
    "import socket\n",
    "s = socket.socket()\n",
    "s.bind(('', 5678))\n",
    "s.listen(5)\n",
    "stuff = s.accept()\n",
    "s2 = stuff[0]\n",
    "print s2.recv(1000)\n",
    "~~~"
   ]
  },
  {
   "cell_type": "markdown",
   "metadata": {
    "slideshow": {
     "slide_type": "notes"
    }
   },
   "source": [
    "Question: Could I be hacked?\n",
    "    \n",
    "It depends on what you mean by that. Anyone could connect to that socket and you could read the bytes."
   ]
  },
  {
   "cell_type": "code",
   "execution_count": null,
   "metadata": {
    "collapsed": true
   },
   "outputs": [],
   "source": [
    "find your ip address\n",
    "\n",
    "\n",
    "Have them run a file server so they see it"
   ]
  },
  {
   "cell_type": "markdown",
   "metadata": {
    "slideshow": {
     "slide_type": "slide"
    }
   },
   "source": [
    "\n",
    "Project: Write a server, have your neighbor connect to it\n",
    "---\n",
    "\n"
   ]
  },
  {
   "cell_type": "markdown",
   "metadata": {
    "slideshow": {
     "slide_type": "slide"
    }
   },
   "source": [
    "~~~\n",
    "import socket\n",
    "\n",
    "server = socket.socket()\n",
    "server.setsockopt(socket.SOL_SOCKET, socket.SO_REUSEADDR, 1)\n",
    "server.bind(('', 1234))\n",
    "server.listen(1)\n",
    "\n",
    "while True:\n",
    "    s, addr = server.accept()\n",
    "    msg = s.recv(1000)\n",
    "    s.send(msg.upper())\n",
    "~~~"
   ]
  },
  {
   "cell_type": "markdown",
   "metadata": {
    "slideshow": {
     "slide_type": "subslide"
    }
   },
   "source": [
    "server code being used for our big chat server\n",
    "~~~\n",
    "import select\n",
    "import socket\n",
    "\n",
    "server = socket.socket()\n",
    "#server.setsockopt(socket.SOL_SOCKET, socket.SO_REUSEADDR, 1)\n",
    "server.bind(('', 1234))\n",
    "server.listen(5)\n",
    "\n",
    "clients = []\n",
    "\n",
    "while True:\n",
    "    ready_to_read, _, _ = select.select(clients + [server], [], [])\n",
    "    for r in ready_to_read:\n",
    "        if r is server:\n",
    "            s, addr = server.accept()\n",
    "            clients.append(s)\n",
    "        else:\n",
    "            msg = r.recv(1000)\n",
    "            if not msg:\n",
    "                r.close()\n",
    "                clients.remove(r)\n",
    "                continue\n",
    "            for client in clients:\n",
    "                if client is not r:\n",
    "                    client.send(msg)\n",
    "~~~"
   ]
  },
  {
   "cell_type": "markdown",
   "metadata": {
    "slideshow": {
     "slide_type": "notes"
    }
   },
   "source": [
    "Project - make (file-serving?) web server implement http 0.9\n",
    "---\n",
    "\n",
    "\n",
    "provide the strings for the server\n",
    "\n",
    "provide lines you'll need to use\n"
   ]
  },
  {
   "cell_type": "markdown",
   "metadata": {
    "slideshow": {
     "slide_type": "notes"
    }
   },
   "source": [
    "~~~.py\n",
    "import socket\n",
    "\n",
    "listener = socket.socket()\n",
    "listener.setsockopt(socket.SOL_SOCKET, socket.SO_REUSEADDR, 1)\n",
    "listener.bind(('', 8082))\n",
    "listener.listen(5)\n",
    "while True:\n",
    "    s, addr = listener.accept()\n",
    "    request = s.recv(10000)\n",
    "    print 'request text:', request\n",
    "    method, rest = request.split(' ', 1)\n",
    "    path, rest = rest.split(None, 1)\n",
    "    print 'method:', method\n",
    "    print 'path:', path\n",
    "    s.send('HTTP/1.0 200 OK\\n')\n",
    "    s.send('Content-Type text/html')\n",
    "    #s.send('Content-Type: application/octet-stream')\n",
    "    #s.send('Content-Type: text/plain')\n",
    "    s.send('\\n\\n')\n",
    "    s.send('<html><body>')\n",
    "    s.send('<h1>you asked to '+method+' '+path+'</h1>')\n",
    "    s.send('</body></html>')\n",
    "    s.close()\n",
    "~~~"
   ]
  },
  {
   "cell_type": "markdown",
   "metadata": {
    "slideshow": {
     "slide_type": "subslide"
    }
   },
   "source": [
    "Resources:  \n",
    "* Let's look at a request from our browser\n",
    "* Let's look at a response from Google\n",
    "* check Wikipedia: https://en.wikipedia.org/wiki/Hypertext_Transfer_Protocol#Example_session\n",
    "* here's a spec: https://www.w3.org/Protocols/HTTP/AsImplemented.html\n",
    "* https://en.wikipedia.org/wiki/List_of_HTTP_header_fields\n",
    "* https://developer.mozilla.org/en-US/docs/Web/Security/Securing_your_site/Configuring_server_MIME_types"
   ]
  },
  {
   "cell_type": "markdown",
   "metadata": {
    "slideshow": {
     "slide_type": "slide"
    }
   },
   "source": [
    "~~~\n",
    "import socket\n",
    "\n",
    "listener = socket.socket()\n",
    "listener.setsockopt(socket.SOL_SOCKET, socket.SO_REUSEADDR, 1)\n",
    "listener.bind(('', 8000))\n",
    "listener.listen(5)\n",
    "\n",
    "while True:\n",
    "    s, addr = listener.accept()\n",
    "    print 'server received connection from', addr\n",
    "    request = s.recv(10000)\n",
    "    print 'request we received:', request\n",
    "    method, rest = request.split(' ', 1)\n",
    "    path, rest = rest.split(None, 1)\n",
    "    s.send('HTTP/0.9 200 OK\\n\\n')\n",
    "    with open('.'+path) as f:\n",
    "        s.sendall(f.read())\n",
    "    s.close()\n",
    "~~~\n",
    "\n",
    "\n",
    "TODO - figure out scafolding for thsi"
   ]
  },
  {
   "cell_type": "markdown",
   "metadata": {
    "slideshow": {
     "slide_type": "notes"
    }
   },
   "source": [
    "we’ll step though it’s shortcomings: content type, parsing the rest of the request, caching, etc.\n",
    "\n",
    "Reach goals for more experienced folks will be to compress the resource, respect caching, use 1.0 instead of 0.9, etc."
   ]
  },
  {
   "cell_type": "markdown",
   "metadata": {
    "slideshow": {
     "slide_type": "notes"
    }
   },
   "source": [
    "This is a tough one, there's a lot of ways to mess up. We should go over the HTTP protocol.\n",
    "\n",
    "We should talk about the headers.\n",
    "\n",
    "Go over tools used to test this: show browser request in terminal, and show Google response in terminal."
   ]
  },
  {
   "cell_type": "markdown",
   "metadata": {
    "slideshow": {
     "slide_type": "slide"
    }
   },
   "source": [
    "15 minute break\n",
    "=="
   ]
  },
  {
   "cell_type": "markdown",
   "metadata": {
    "slideshow": {
     "slide_type": "notes"
    }
   },
   "source": [
    "Addendum: what was wrong with our implementation? (what else is there to the HTTP Spec?) Go over HTTP spec together: error codes, response codes, etc."
   ]
  },
  {
   "cell_type": "markdown",
   "metadata": {
    "slideshow": {
     "slide_type": "slide"
    }
   },
   "source": [
    "Web 2.0\n",
    "===\n",
    "\n",
    "Giving people information you don't have\n",
    "---"
   ]
  },
  {
   "cell_type": "markdown",
   "metadata": {
    "slideshow": {
     "slide_type": "notes"
    }
   },
   "source": [
    "We've seen asking for files, but of course you *could* return anything. My profile page: a page that probably doesn't exist until I ask for it. Generating responses on the fly."
   ]
  },
  {
   "cell_type": "markdown",
   "metadata": {
    "slideshow": {
     "slide_type": "slide"
    }
   },
   "source": [
    "Exercise - modify file server not to return a file.\n",
    "---\n",
    "Do something dynamic: send back a random number, send back the amount of free disk space on your computer, send back the path they asked for but capitalized."
   ]
  },
  {
   "cell_type": "markdown",
   "metadata": {
    "slideshow": {
     "slide_type": "notes"
    }
   },
   "source": [
    "We’ll encourage people who didn’t get a working version of the previous project to do a git checkout or to copy and paste a gist into a file to start with a working web server. This exercise should take 5 minutes.\n",
    "Learning goal: “OMG the file path part of a HTTP request is just a suggestion!”\n"
   ]
  },
  {
   "cell_type": "markdown",
   "metadata": {
    "slideshow": {
     "slide_type": "subslide"
    }
   },
   "source": [
    "Demo - cgi script\n",
    "===\n",
    "\n",
    "I'll modify my server to run a script instead!"
   ]
  },
  {
   "cell_type": "markdown",
   "metadata": {
    "slideshow": {
     "slide_type": "subslide"
    }
   },
   "source": [
    "`python3 -m http.server --cgi`\n",
    "---\n",
    "`python -m CGIHTTPServer`\n",
    "---"
   ]
  },
  {
   "cell_type": "markdown",
   "metadata": {
    "slideshow": {
     "slide_type": "notes"
    }
   },
   "source": [
    "modifying the script (teaching subprocess management is too much of a distraction)\n",
    "\n",
    "We're repeating ourselves! Let's abstract thing out!"
   ]
  },
  {
   "cell_type": "markdown",
   "metadata": {
    "slideshow": {
     "slide_type": "notes"
    }
   },
   "source": [
    "Exercise: How long does it take to start a Python process? CGI untenable"
   ]
  },
  {
   "cell_type": "markdown",
   "metadata": {
    "slideshow": {
     "slide_type": "notes"
    }
   },
   "source": [
    "Exercise - write a web application WSGI function\n",
    "After being presented in lecture with something like https://gist.github.com/thomasballinger/5807241 writing a function that calls a callback in it’s body should be the main tricky bit. Should take 5 minutes.\n",
    "\n",
    "Project - writing a framework: a function that takes a dictionary of paths and responses and returns the appropriate wsgi application\n",
    "This could go on for a while. The minimum project on the as described will be a function that takes a dictionary and returns a function, but all the piece will be in place to write a flask-like api for people comfortable with decorators - and helpers will all be prepared for people stuck on them.\n",
    "\n",
    "\n",
    "\n",
    "\n",
    "\n",
    "\n",
    "Part 4: JavaScript, the DOM\n",
    "\n",
    "The browser is a VM, the HTML is just initialization\n",
    "\n",
    "Lecture - things added to HTML HTML page can spark off a bunch of requests.\n",
    "Js, applets, flash,\n",
    "\n",
    "Exercise - write a chat history backend endpoint used by a JavaScript snippet that repeatedly makes a request and puts the text in a div\n",
    "This will take at least 10 minutes but could stretch well beyond this as beginners people likely back in their comfort zones writing HTML and CSS."
   ]
  },
  {
   "cell_type": "markdown",
   "metadata": {
    "slideshow": {
     "slide_type": "slide"
    }
   },
   "source": [
    "Interlude: Don’t use sockets! <blockquote class=\"twitter-tweet\" data-lang=\"en\"><p lang=\"en\" dir=\"ltr\">Sockets are the assembly language of network programming. There’s usually a much easier library to use.</p>&mdash; Ned Batchelder (@nedbat) <a href=\"https://twitter.com/nedbat/status/710144098028666880\">March 16, 2016</a></blockquote>\n",
    "<script async src=\"//platform.twitter.com/widgets.js\" charset=\"utf-8\"></script>"
   ]
  },
  {
   "cell_type": "markdown",
   "metadata": {
    "collapsed": true,
    "slideshow": {
     "slide_type": "slide"
    }
   },
   "source": [
    "* Learning goal: “OMG I can put bytes on other people’s machines!”\n",
    "* Learning goal: “packets are cool, but the socket API is a fine place to stop learning for today”\n",
    "* Learning goal: “so THAT’S what a protocol is!”\n",
    "* Learning goal: “OMG HTTP protocol is just some words, and also I can browse the web from the  Python REPL!”\n",
    "* Learning goal: “OMG so that’s what it means to be hacked!”\n",
    "* Learning goal: “OMG the file path part of a HTTP request is just a suggestion!”\n"
   ]
  },
  {
   "cell_type": "markdown",
   "metadata": {
    "collapsed": true,
    "slideshow": {
     "slide_type": "slide"
    }
   },
   "source": [
    "Resources\n",
    "===\n",
    "\n",
    "Books\n",
    "* http://www.amazon.com/gp/product/1430258543\n",
    "* http://www.amazon.com/Tangled-Web-Securing-Modern-Applications/dp/1593273886\n",
    "  \n",
    "Good resource for same material:\n",
    "* https://docs.python.org/2/howto/sockets.html\n",
    "\n",
    "More lower level networking information:\n",
    "* http://jvns.ca/networking-zine.pdf\n",
    "* https://jvns.ca/blog/2014/08/12/what-happens-if-you-write-a-tcp-stack-in-python/\n"
   ]
  }
 ],
 "metadata": {
  "celltoolbar": "Slideshow",
  "kernelspec": {
   "display_name": "Python 3",
   "language": "python",
   "name": "python3"
  },
  "language_info": {
   "codemirror_mode": {
    "name": "ipython",
    "version": 3
   },
   "file_extension": ".py",
   "mimetype": "text/x-python",
   "name": "python",
   "nbconvert_exporter": "python",
   "pygments_lexer": "ipython3",
   "version": "3.5.0"
  }
 },
 "nbformat": 4,
 "nbformat_minor": 1
}
