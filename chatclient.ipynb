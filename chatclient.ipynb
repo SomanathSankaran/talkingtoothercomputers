{
 "cells": [
  {
   "cell_type": "markdown",
   "metadata": {},
   "source": [
    "# Exercise Guide #1: Chat Client"
   ]
  },
  {
   "cell_type": "markdown",
   "metadata": {},
   "source": [
    "Welcome! Please connect your computer to the wifi and open a terminal. This might be called Terminal.app on a mac, Terminal on Ubuntu, or cmd on Windows. In Windows, go to search and look for cmd.exe.\n",
    "\n",
    "Type the following into your terminal:\n",
    "\n",
    "```\n",
    "nc ipaddress 1234\n",
    "```\n",
    "and hit enter, or if you installed netcat from nmap on Windows, type\n",
    "```\n",
    "ncat ipaddress 1234\n",
    "```\n",
    "If you haven't installed netcat yet on Windows, you can get it from ?"
   ]
  },
  {
   "cell_type": "markdown",
   "metadata": {},
   "source": [
    "## Using a REPL\n",
    "\n",
    "Open another terminal, keeping the old one visible.\n",
    "\n",
    "Next you'll want to type \"python3\" in the terminal and hit enter. Depending on how you installed Python 3 on Windows you may need to change directories to the python installation folder if this doesn't work. Here's what this looks like on my machine:\n",
    "```\n",
    "$ python3\n",
    "Python 3.6.1 (default, Apr  4 2017, 09:40:21)\n",
    "[GCC 4.2.1 Compatible Apple LLVM 8.1.0 (clang-802.0.38)] on darwin\n",
    "Type \"help\", \"copyright\", \"credits\" or \"license\" for more information.\n",
    ">>> s = \"this creates a string create a variable s that refers to it\"\n",
    "```\n",
    "\n",
    "You can type Python code here and hit enter and you'll see the result below."
   ]
  },
  {
   "cell_type": "markdown",
   "metadata": {},
   "source": [
    "# Exercise: Square 3294\n",
    "\n",
    "If you're not sure how to square a number in Python, you can multiply it by itself instead.\n",
    "Put a green sticky note up once you know the answer."
   ]
  },
  {
   "cell_type": "markdown",
   "metadata": {},
   "source": [
    "# Exercise: Connecting to the chat server with Python\n",
    "Type exactly this code in at the Python prompt:\n",
    "```\n",
    ">>> import socket\n",
    ">>> s = socket.socket()\n",
    ">>> s.connect(('TODO with internet - replace with my ip', 1234))\n",
    ">>> s.send(b'hello!')  # you can type something other than hello here\n",
    "```"
   ]
  },
  {
   "cell_type": "markdown",
   "metadata": {},
   "source": [
    "# Project: Write a chat client¶\n",
    "\n",
    "Let's write a program similar to nc that we've been using to chat. It should\n",
    "\n",
    "* connect to the server\n",
    "* ask for a message from the user\n",
    "* send that message to the server\n",
    "* receive data from the server\n",
    "* display that data\n",
    "* repeat most of that\n",
    "\n",
    "Here are some piece of code that will be useful:\n",
    "\n",
    "    socket.socket() - creates a new socket\n",
    "    socket.connect(('123.123.123.123', 1234)) - tells OS what address we want this socket to send data to. Be careful to use a tuple!\n",
    "    socket.recv(1234) - receive up to this number of bytes\n",
    "    input() - get message from the user\n",
    "    socket.send()\n",
    "    while True: - loop forever\n",
    "    .encode() method on strings\n",
    "    \n",
    "The official Python socket docs may be useful too: https://docs.python.org/3/library/socket.html"
   ]
  },
  {
   "cell_type": "markdown",
   "metadata": {},
   "source": [
    "## Extensions to this project for early finishers\n",
    "\n",
    "There's a major issue with the simple version of this chat client: it doesn't check for messages until the user finishes typing a message! This seems like a fundemental limitation of .send() and .recv() as we've learned them: these are both blocking calls.\n",
    "\n",
    "It's typical for networked applications to need to deal with this kind of concurrency.\n",
    "Solutions:\n",
    "\n",
    "### use separate programs\n",
    "Imagine one program which only read from the chat server, and another in a separate terminal that allowed the user to type! We already have this somewhat: our nc program is constantly printing, so we could use that plus this chat client.\n",
    "\n",
    "### use threads\n",
    "Let's try the previous idea but in the same program! Threading in Python looks something like this:\n",
    "```python\n",
    "import threading\n",
    "\n",
    "def thing1():\n",
    "    while True:\n",
    "        print('hi')\n",
    "        time.sleep(3)\n",
    "        \n",
    "\n",
    "t = threading.Thread(target=thing1)\n",
    "t.daemon = True\n",
    "t.start()  # this starts the other thread running, but the main thread continues to the next line\n",
    "\n",
    "while True:  # this code is being run on the main thread as normal\n",
    "    print(input().upper())\n",
    "```\n",
    "\n",
    "### use nonblocking socket\n",
    "You can change the api that a socket will use by making it a nonblocking socket!\n",
    "Now at least when you try to read bytes off of the socket you won't be stuck until some happen, although\n",
    "you will need to catch an exception if there aren't any ready and check again soon.\n",
    "\n",
    "```python\n",
    "s = socket.socket()\n",
    "s.connect(('ipaddress', 1234))\n",
    "s.setblocking(False)\n",
    "s.recv(1000)\n",
    "```\n",
    "\n",
    "### use select\n",
    "On unix-like operating systems, sockets and the stdin stream are both file desciptors. `select` provides a way to block on multiple things at once, and whichever ones are ready first are returned. A select loop might look like this:\n",
    "\n",
    "```python\n",
    "while True:\n",
    "    ready_to_read, _, _ = select.select([sys.stdin, s], [], [])  # blocks on both the socket and stdin\n",
    "    for stream in ready_to_read:\n",
    "        if stream is sys.stdin:\n",
    "            # read from sys.stdin\n",
    "        else:  # stream is the socket\n",
    "            # read from the socket\n",
    "```"
   ]
  },
  {
   "cell_type": "markdown",
   "metadata": {},
   "source": [
    "# Project: let's extend our chat clients!\n",
    "\n",
    "If you didn't finish one before, you can start by pasting this code into a Python file:\n",
    "\n",
    "```python\n",
    "import socket\n",
    "\n",
    "def main():\n",
    "    s = socket.socket()\n",
    "    s.connect(('123.456.789.012', 1234))\n",
    "    while True:\n",
    "        message_to_send = input('msg: ')\n",
    "        if message_to_send:\n",
    "            s.send(message_to_send.encode('ascii'))\n",
    "        print(s.recv(1000))\n",
    "\n",
    "main()\n",
    "```"
   ]
  }
 ],
 "metadata": {
  "kernelspec": {
   "display_name": "Python 3",
   "language": "python",
   "name": "python3"
  },
  "language_info": {
   "codemirror_mode": {
    "name": "ipython",
    "version": 3
   },
   "file_extension": ".py",
   "mimetype": "text/x-python",
   "name": "python",
   "nbconvert_exporter": "python",
   "pygments_lexer": "ipython3",
   "version": "3.6.1"
  }
 },
 "nbformat": 4,
 "nbformat_minor": 2
}
