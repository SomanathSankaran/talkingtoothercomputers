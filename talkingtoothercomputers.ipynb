{
 "cells": [
  {
   "cell_type": "markdown",
   "metadata": {
    "slideshow": {
     "slide_type": "slide"
    }
   },
   "source": [
    "Welcome!\n",
    "--------\n",
    "\n",
    "Open a terminal and telnet to the ip address on the board:\n",
    "\n",
    "`telnet ip_address_from_the_board 1234`\n",
    "\n",
    "Let a helper know if you'd like help.\n",
    "\n",
    "Once you've connected please put a green sticky note on your laptop so I can see it.\n",
    "\n",
    "If you have questions at any point (including while I'm talking) feel free to raise your hand or ask a question in this terminal you just opened.\n",
    "\n",
    "If you're using Windows and telnet isn't installed, ask for help on how to install it, see http://windows.microsoft.com/en-us/windows/telnet-faq#1TC=windows-7"
   ]
  },
  {
   "cell_type": "markdown",
   "metadata": {
    "slideshow": {
     "slide_type": "subslide"
    }
   },
   "source": [
    "Sticky Notes\n",
    "===\n",
    "\n",
    "Red means *\"I want help\"* or *\"Slow down\"*\n",
    "---\n",
    "\n",
    "Green means *\"I'm finished\"* or *\"I understand\"*\n",
    "---\n",
    "\n"
   ]
  },
  {
   "cell_type": "markdown",
   "metadata": {
    "slideshow": {
     "slide_type": "notes"
    }
   },
   "source": [
    "* Put up a red sticky note if you've got a question and want to talk to a helper about it.\n",
    "* Put up a green sticky note when we're doing an exercise and you've finished.\n",
    "* Put up a red or green sticky note when I ask how everyone feels about something to help me know whether we should keep working on something or move on."
   ]
  },
  {
   "cell_type": "markdown",
   "metadata": {
    "slideshow": {
     "slide_type": "subslide"
    }
   },
   "source": [
    "Helpers\n",
    "-------\n",
    "\n"
   ]
  },
  {
   "cell_type": "markdown",
   "metadata": {
    "slideshow": {
     "slide_type": "notes"
    }
   },
   "source": [
    "TODO: get names of helpers at March 23 event, ask for contact info to put at end\n",
    "\n",
    "Introduce everyone: \n",
    "* Geoffrey\n",
    "* Eric\n",
    "* Max\n",
    "* Ben\n",
    "* John\n",
    "* Andrew\n",
    "* Taymon\n",
    "* Stephanie\n"
   ]
  },
  {
   "cell_type": "markdown",
   "metadata": {
    "slideshow": {
     "slide_type": "subslide"
    }
   },
   "source": [
    "Notes\n",
    "---\n",
    "ballingt.com/othercomputers"
   ]
  },
  {
   "cell_type": "markdown",
   "metadata": {
    "slideshow": {
     "slide_type": "slide"
    }
   },
   "source": [
    "Activity: Open an interactive Python interpreter and square 1492\n",
    "===\n",
    "\n",
    "Put a **green sticky** up when you know what 1492 squared is using an interactive Python interpreter."
   ]
  },
  {
   "cell_type": "markdown",
   "metadata": {
    "collapsed": true,
    "slideshow": {
     "slide_type": "subslide"
    }
   },
   "source": [
    "I reccommend using IPython, ptpython, or bpython instead of the default interpreter, but if you don't already have one of those installed save that for another time.\n",
    "\n",
    "* [IPython](http://ipython.org/install.html) - I wrote my slides with this\n",
    "* [ptpython](https://github.com/jonathanslenders/ptpython)\n",
    "* [bpython](http://bpython-interpreter.org/) - what I'm using when I live-code"
   ]
  },
  {
   "cell_type": "markdown",
   "metadata": {
    "slideshow": {
     "slide_type": "slide"
    }
   },
   "source": [
    "Part 1: The Internet\n",
    "==="
   ]
  },
  {
   "cell_type": "markdown",
   "metadata": {
    "slideshow": {
     "slide_type": "notes"
    }
   },
   "source": [
    "Question for everyone: What was the internet like in the eighties?\n",
    "\n",
    "* Users of the same mainframe can send each other messages\n",
    "* BBS\n",
    "* email\n",
    "* IRC\n",
    "\n",
    "What was the internet like in the nineties?\n",
    "\n",
    "* 1993 - static html pages\n",
    "* 1995 - server-side scripting\n",
    "* 1997 - cgi\n",
    "* 2000 - Ajax\n",
    "* 2011 - websockets"
   ]
  },
  {
   "cell_type": "markdown",
   "metadata": {
    "slideshow": {
     "slide_type": "slide"
    }
   },
   "source": [
    "How do computers talk to each other?\n",
    "===\n",
    "\n",
    "It's really interesting but I'm not going to bring it up\n",
    "---"
   ]
  },
  {
   "cell_type": "markdown",
   "metadata": {
    "slideshow": {
     "slide_type": "notes"
    }
   },
   "source": [
    "If you ask a question about it I'll answer it, and I hope you do.\n",
    "\n",
    "We will talk about this later, but it will make more sense once we're doing it.\n",
    "\n",
    "But more relevant to us as programmers is..."
   ]
  },
  {
   "cell_type": "markdown",
   "metadata": {
    "slideshow": {
     "slide_type": "slide"
    }
   },
   "source": [
    "How do we use Python to tell our computers to talk to each other?\n",
    "==="
   ]
  },
  {
   "cell_type": "markdown",
   "metadata": {
    "slideshow": {
     "slide_type": "notes"
    }
   },
   "source": [
    "This is the question we're going to focus on today"
   ]
  },
  {
   "cell_type": "markdown",
   "metadata": {
    "slideshow": {
     "slide_type": "slide"
    }
   },
   "source": [
    "Exercise - connect to the chat server with a socket in Python.\n",
    "---\n",
    "\n",
    "~~~\n",
    "import socket\n",
    "s = socket.socket()\n",
    "s.connect(('ipaddress', 1234))\n",
    "s.send(b'hello')\n",
    "~~~"
   ]
  },
  {
   "cell_type": "markdown",
   "metadata": {
    "slideshow": {
     "slide_type": "notes"
    }
   },
   "source": [
    "Suggested resource: http://nedbatchelder.com/text/unipain.html"
   ]
  },
  {
   "cell_type": "markdown",
   "metadata": {
    "slideshow": {
     "slide_type": "subslide"
    }
   },
   "source": [
    "Python 3\n",
    "--------\n",
    "* `b\"asdf\"` is a bytestring\n",
    "* `\"asdf\"` is a string (a \"unicode\" string)\n",
    "\n",
    "Python 2\n",
    "--------\n",
    "* `\"asdf\"` is a bytestring already"
   ]
  },
  {
   "cell_type": "markdown",
   "metadata": {
    "slideshow": {
     "slide_type": "notes"
    }
   },
   "source": [
    "What if we want to represent characters other than ascii? 'åß´ƒ' for example?\n",
    "\n",
    "*open side by side python2 python3 prompts*\n",
    "\n",
    "Already done in python3, but the ord of 'ƒ' is too big a number! We sent lists of number over sockets. So it's our job to encode this character with the .encode() method.\n",
    "\n",
    "Recommend Ned's unicode talk"
   ]
  },
  {
   "cell_type": "markdown",
   "metadata": {
    "slideshow": {
     "slide_type": "subslide"
    }
   },
   "source": [
    "~~~\n",
    "#/usr/bin/python2\n",
    ">>> ord('a')\n",
    "97\n",
    ">>> ord('ƒ')\n",
    "Traceback (most recent call last):\n",
    "  File \"<input>\", line 1, in <module>\n",
    "    ord('ƒ')\n",
    "TypeError: ord() expected a character, but string of length 2 found\n",
    ">>> len('ƒ')\n",
    "2\n",
    "~~~"
   ]
  },
  {
   "cell_type": "markdown",
   "metadata": {
    "slideshow": {
     "slide_type": "subslide"
    }
   },
   "source": [
    "~~~\n",
    "#/usr/bin/python3\n",
    ">>> ord('a')\n",
    "97\n",
    ">>> ord('ƒ')\n",
    "402\n",
    ">>> len('ƒ')\n",
    "1\n",
    "~~~"
   ]
  },
  {
   "cell_type": "markdown",
   "metadata": {
    "slideshow": {
     "slide_type": "notes"
    }
   },
   "source": [
    "Unicode strings let us have millions of characters. Bytestrings only have 256 - but that means there's a very nice conversion to number - each character is exactly one byte. So these are good for when you're sending bytes to another person, or saving them to a file. We go between the two by "
   ]
  },
  {
   "cell_type": "markdown",
   "metadata": {
    "slideshow": {
     "slide_type": "subslide"
    }
   },
   "source": [
    "![](http://eli.thegreenplace.net/images/2012/01/py3_string_bytes.png)"
   ]
  },
  {
   "cell_type": "markdown",
   "metadata": {
    "slideshow": {
     "slide_type": "slide"
    }
   },
   "source": [
    "TCP Sockets\n",
    "---\n",
    "\n",
    "Questions? (there should be a lot)\n"
   ]
  },
  {
   "cell_type": "markdown",
   "metadata": {
    "slideshow": {
     "slide_type": "subslide"
    }
   },
   "source": [
    "* bidirectional\n",
    "* send bytestrings\n",
    "* single use (one connection per socket)\n"
   ]
  },
  {
   "cell_type": "markdown",
   "metadata": {
    "slideshow": {
     "slide_type": "notes"
    }
   },
   "source": [
    "**What's going on here?**\n",
    "Your computer makes radio waves that are interpreter by a router, which reads the first few bytes of them and decides where to send them based on rules to do with the number\n",
    "\n",
    "**What is a socket object?**\n",
    "It's similar to a file object in that it's a thing with methods that lets us make requests of the operating system\n",
    "\n",
    "**What's an ip address?**\n",
    "IP addresses.\n",
    "\n",
    "**What is a port?**\n",
    "An apartment number - the mail service gets this to the right computer via the ip address, but once it gets there there still might be multiple people \n",
    "\n",
    "**Internal/external IP addresses?**\n",
    "There aren't enough IP addresses (256^4) for everyone to have one, so the ip address you have right now isn't actually unique. We'll talk about this later."
   ]
  },
  {
   "cell_type": "markdown",
   "metadata": {
    "slideshow": {
     "slide_type": "slide"
    }
   },
   "source": [
    "Exercise: Write a chat client\n",
    "--\n",
    "\n",
    "* socket.socket()\n",
    "* socket.recv()\n",
    "* input() (raw_input() in Python 2)\n",
    "* socket.send()\n",
    "* while loop\n",
    "* Python 3: .encode() method on strings"
   ]
  },
  {
   "cell_type": "markdown",
   "metadata": {
    "slideshow": {
     "slide_type": "subslide"
    }
   },
   "source": [
    "How we'll do projects\n",
    "---\n",
    "\n",
    "You have about 15 minutes. I'll start making progress building my own on the projector in about 5 minutes. If you're stuck in 5 minutes, you can follow along then."
   ]
  },
  {
   "cell_type": "markdown",
   "metadata": {
    "slideshow": {
     "slide_type": "subslide"
    }
   },
   "source": [
    "Reach goal for more experienced folks:\n",
    "\n",
    "* nicer prompting\n",
    "* format messages that come in\n",
    "* write two programs: one that listens, another that receives\n",
    "* use threads listen for messages and read user input at the same time, printing incoming messages in real time.\n",
    "* use select on stdin and the socket to do the same thing"
   ]
  },
  {
   "cell_type": "code",
   "execution_count": 15,
   "metadata": {
    "collapsed": true,
    "slideshow": {
     "slide_type": "slide"
    }
   },
   "outputs": [],
   "source": [
    "#The minimum implementation on the projector will be a while loop,\n",
    "#alternately sending a line of text if line isn’t blank\n",
    "#and printing bytes received from a socket.\n",
    "\n",
    "import socket\n",
    "\n",
    "def main():\n",
    "    s = socket.socket()\n",
    "    s.connect(('123.456.789.012', 1234))\n",
    "    while True:\n",
    "        message_to_send = raw_input('msg: ')\n",
    "        if message_to_send:\n",
    "            s.send(message_to_send)\n",
    "        print(s.recv(1000))\n",
    "    "
   ]
  },
  {
   "cell_type": "markdown",
   "metadata": {
    "slideshow": {
     "slide_type": "slide"
    }
   },
   "source": [
    "How could we make our chat server better?"
   ]
  },
  {
   "cell_type": "markdown",
   "metadata": {
    "slideshow": {
     "slide_type": "notes"
    }
   },
   "source": [
    "Possible suggestions:\n",
    "* keep track of names\n",
    "* send private messages\n",
    "* allow file transfers\n",
    "* show if user is typing\n",
    "* encrypt messages\n",
    "\n",
    "Hopefully during the tutorial we'll implement usernames. This is what a protocol is!"
   ]
  },
  {
   "cell_type": "markdown",
   "metadata": {
    "slideshow": {
     "slide_type": "slide"
    }
   },
   "source": [
    "Protocols\n",
    "=========\n",
    "\n",
    "rules about what bytes to send"
   ]
  },
  {
   "cell_type": "markdown",
   "metadata": {
    "slideshow": {
     "slide_type": "notes"
    }
   },
   "source": [
    "\n",
    "\n",
    "What's a protcol? A set of rules. We don't have usernames on the chat. What if we all agreed to do this? Please change your client to write your name, then a colon, then your message."
   ]
  },
  {
   "cell_type": "markdown",
   "metadata": {
    "slideshow": {
     "slide_type": "notes"
    }
   },
   "source": [
    "TODO add screencasted demo of sending email by plaintext (too error-prone for me to do live, but very cool) and link to a resource on how to do this"
   ]
  },
  {
   "cell_type": "markdown",
   "metadata": {
    "slideshow": {
     "slide_type": "slide"
    }
   },
   "source": [
    "What's really going on?\n",
    "--\n",
    "\n",
    "(Wireshark interlude)\n",
    "https://www.wireshark.org/"
   ]
  },
  {
   "cell_type": "markdown",
   "metadata": {
    "collapsed": true,
    "slideshow": {
     "slide_type": "slide"
    }
   },
   "source": [
    "Resources:\n",
    "\n",
    "* Implementing simple network protocols: http://blog.annharter.com/2015/07/15/three-dead-protocols.html\n",
    "* More about HTTP: http://www.harihareswara.net/hidden-features-in-http-gwo-2016.pdf\n"
   ]
  },
  {
   "cell_type": "markdown",
   "metadata": {
    "slideshow": {
     "slide_type": "slide"
    }
   },
   "source": [
    "The Web\n",
    "=======\n",
    "\n",
    "* HTTP\n",
    "* HTML"
   ]
  },
  {
   "cell_type": "markdown",
   "metadata": {
    "slideshow": {
     "slide_type": "slide"
    }
   },
   "source": [
    "Exercise: Manual http requests/responses with Python sockets.\n",
    "--------\n",
    "\n",
    "~~~\n",
    ">>> import socket\n",
    ">>> s = socket.socket()\n",
    ">>> s.connect((‘www.google.com’, 80))\n",
    ">>> s.send(b‘GET /\\n\\n’)\n",
    ">>> s.recv(10000)\n",
    "~~~"
   ]
  },
  {
   "cell_type": "markdown",
   "metadata": {
    "slideshow": {
     "slide_type": "notes"
    }
   },
   "source": [
    "We just tried a new protocol: HTTP"
   ]
  },
  {
   "cell_type": "markdown",
   "metadata": {
    "slideshow": {
     "slide_type": "slide"
    }
   },
   "source": [
    "#from https://en.wikipedia.org/wiki/Hypertext_Transfer_Protocol#Example_session\n",
    "~~~\n",
    "    GET /index.html HTTP/1.1\n",
    "    Host: www.example.com\n",
    "    \n",
    "(with an empty line at the end)\n",
    "~~~\n"
   ]
  },
  {
   "cell_type": "markdown",
   "metadata": {
    "slideshow": {
     "slide_type": "slide"
    }
   },
   "source": [
    "#from https://en.wikipedia.org/wiki/Hypertext_Transfer_Protocol#Example_session\n",
    "~~~\n",
    "HTTP/1.1 200 OK\n",
    "Date: Mon, 23 May 2005 22:38:34 GMT\n",
    "Content-Type: text/html; charset=UTF-8\n",
    "Content-Encoding: UTF-8\n",
    "Content-Length: 138\n",
    "Last-Modified: Wed, 08 Jan 2003 23:11:55 GMT\n",
    "Server: Apache/1.3.3.7 (Unix) (Red-Hat/Linux)\n",
    "ETag: \"3f80f-1b6-3e1cb03b\"\n",
    "Accept-Ranges: bytes\n",
    "Connection: close\n",
    "\n",
    "<html>\n",
    "<head>\n",
    "  <title>An Example Page</title>\n",
    "</head>\n",
    "<body>\n",
    "  Hello World, this is a very simple HTML document.\n",
    "</body>\n",
    "</html>\n",
    "~~~"
   ]
  },
  {
   "cell_type": "markdown",
   "metadata": {
    "slideshow": {
     "slide_type": "slide"
    }
   },
   "source": [
    "Project: write an http client\n",
    "------\n",
    "\n",
    "* read the site from command line arguments or raw_input\n",
    "* download it and put it in a file\n",
    "* just put the content in a file, not the whole response"
   ]
  },
  {
   "cell_type": "markdown",
   "metadata": {
    "slideshow": {
     "slide_type": "notes"
    }
   },
   "source": [
    "TODO most useful docs for an http client (the request basically)"
   ]
  },
  {
   "cell_type": "markdown",
   "metadata": {
    "slideshow": {
     "slide_type": "slide"
    }
   },
   "source": [
    "The server side of sockets\n",
    "---"
   ]
  },
  {
   "cell_type": "markdown",
   "metadata": {
    "slideshow": {
     "slide_type": "notes"
    }
   },
   "source": [
    "So sockets are a conversation with the operating system? We can ask it some other things."
   ]
  },
  {
   "cell_type": "markdown",
   "metadata": {
    "slideshow": {
     "slide_type": "slide"
    }
   },
   "source": [
    "Exercise: let's look at an HTTP request\n",
    "---\n",
    "\n",
    "~~~\n",
    "import socket\n",
    "s = socket.socket()\n",
    "s.bind(('', 5678))\n",
    "s.\n",
    "~~~"
   ]
  },
  {
   "cell_type": "markdown",
   "metadata": {
    "slideshow": {
     "slide_type": "notes"
    }
   },
   "source": [
    "Question: Could I be hacked?\n",
    "    \n",
    "It depends on what you mean by that. Anyone could connect to that socket and you could read the bytes."
   ]
  },
  {
   "cell_type": "markdown",
   "metadata": {
    "slideshow": {
     "slide_type": "slide"
    }
   },
   "source": [
    "\n",
    "Project: Write a server, have your neighbor connect to it\n",
    "---\n",
    "\n"
   ]
  },
  {
   "cell_type": "markdown",
   "metadata": {
    "slideshow": {
     "slide_type": "slide"
    }
   },
   "source": [
    "~~~\n",
    "import socket\n",
    "\n",
    "server = socket.socket()\n",
    "server.setsockopt(socket.SOL_SOCKET, socket.SO_REUSEADDR, 1)\n",
    "server.bind(('', 1234))\n",
    "server.listen(1)\n",
    "\n",
    "while True:\n",
    "    s, addr = server.accept()\n",
    "    msg = s.recv(1000)\n",
    "    s.send(msg.upper())\n",
    "~~~"
   ]
  },
  {
   "cell_type": "markdown",
   "metadata": {
    "slideshow": {
     "slide_type": "subslide"
    }
   },
   "source": [
    "server code being used for our big chat server\n",
    "~~~\n",
    "import select\n",
    "import socket\n",
    "\n",
    "server = socket.socket()\n",
    "#server.setsockopt(socket.SOL_SOCKET, socket.SO_REUSEADDR, 1)\n",
    "server.bind(('', 1234))\n",
    "server.listen(5)\n",
    "\n",
    "clients = []\n",
    "\n",
    "while True:\n",
    "    ready_to_read, _, _ = select.select(clients + [server], [], [])\n",
    "    for r in ready_to_read:\n",
    "        if r is server:\n",
    "            s, addr = server.accept()\n",
    "            clients.append(s)\n",
    "        else:\n",
    "            msg = r.recv(1000)\n",
    "            if not msg:\n",
    "                r.close()\n",
    "                clients.remove(r)\n",
    "                continue\n",
    "            for client in clients:\n",
    "                if client is not r:\n",
    "                    client.send(msg)\n",
    "~~~"
   ]
  },
  {
   "cell_type": "markdown",
   "metadata": {
    "slideshow": {
     "slide_type": "notes"
    }
   },
   "source": [
    "Project - make file-serving web server implement http 0.9\n",
    "---\n"
   ]
  },
  {
   "cell_type": "markdown",
   "metadata": {
    "slideshow": {
     "slide_type": "subslide"
    }
   },
   "source": [
    "Resources:  \n",
    "* Let's look at a request from our browser\n",
    "* Let's look at a response from Google\n",
    "* check Wikipedia: https://en.wikipedia.org/wiki/Hypertext_Transfer_Protocol#Example_session\n",
    "* here's a spec: https://www.w3.org/Protocols/HTTP/AsImplemented.html"
   ]
  },
  {
   "cell_type": "markdown",
   "metadata": {
    "slideshow": {
     "slide_type": "notes"
    }
   },
   "source": [
    "we’ll step though it’s shortcomings: content type, parsing the rest of the request, caching, etc.\n",
    "\n",
    "Reach goals for more experienced folks will be to compress the resource, respect caching, use 1.0 instead of 0.9, etc."
   ]
  },
  {
   "cell_type": "markdown",
   "metadata": {
    "slideshow": {
     "slide_type": "slide"
    }
   },
   "source": [
    "~~~\n",
    "import socket\n",
    "\n",
    "listener = socket.socket()\n",
    "listener.setsockopt(socket.SOL_SOCKET, socket.SO_REUSEADDR, 1)\n",
    "listener.bind(('', 8000))\n",
    "listener.listen(5)\n",
    "\n",
    "while True:\n",
    "    s, addr = listener.accept()\n",
    "    print 'server received connection from', addr\n",
    "    request = s.recv(10000)\n",
    "    print 'request we received:', request\n",
    "    method, rest = request.split(' ', 1)\n",
    "    path, rest = rest.split(None, 1)\n",
    "    s.send('HTTP/0.9 200 OK\\n\\n')\n",
    "    with open('.'+path) as f:\n",
    "        s.sendall(f.read())\n",
    "    s.close()\n",
    "~~~"
   ]
  },
  {
   "cell_type": "markdown",
   "metadata": {
    "slideshow": {
     "slide_type": "notes"
    }
   },
   "source": [
    "This is a tough one, there's a lot of ways to mess up. We should go over the HTTP protocol.\n",
    "\n",
    "We should talk about the headers.\n",
    "\n",
    "Go over tools used to test this: show browser request in terminal, and show Google response in terminal."
   ]
  },
  {
   "cell_type": "markdown",
   "metadata": {
    "slideshow": {
     "slide_type": "notes"
    }
   },
   "source": [
    "15 minute break\n",
    "=="
   ]
  },
  {
   "cell_type": "markdown",
   "metadata": {
    "slideshow": {
     "slide_type": "notes"
    }
   },
   "source": [
    "Addendum: what was wrong with our implementation? (what else is there to the HTTP Spec?) Go over HTTP spec together: error codes, response codes, etc."
   ]
  },
  {
   "cell_type": "markdown",
   "metadata": {
    "slideshow": {
     "slide_type": "slide"
    }
   },
   "source": [
    "Web 2.0\n",
    "===\n",
    "\n",
    "Giving people information you don't have\n",
    "---"
   ]
  },
  {
   "cell_type": "markdown",
   "metadata": {
    "slideshow": {
     "slide_type": "notes"
    }
   },
   "source": [
    "We've seen asking for files, but of course you *could* return anything. My profile page: a page that probably doesn't exist until I ask for it. Generating responses on the fly."
   ]
  },
  {
   "cell_type": "markdown",
   "metadata": {
    "slideshow": {
     "slide_type": "slide"
    }
   },
   "source": [
    "Exercise - modify file server not to return a file.\n",
    "---\n",
    "Do something dynamic: send back a random number, send back the amount of free disk space on your computer, send back the path they asked for but capitalized."
   ]
  },
  {
   "cell_type": "markdown",
   "metadata": {
    "slideshow": {
     "slide_type": "notes"
    }
   },
   "source": [
    "We’ll encourage people who didn’t get a working version of the previous project to do a git checkout or to copy and paste a gist into a file to start with a working web server. This exercise should take 5 minutes.\n",
    "Learning goal: “OMG the file path part of a HTTP request is just a suggestion!”\n"
   ]
  },
  {
   "cell_type": "markdown",
   "metadata": {
    "slideshow": {
     "slide_type": "subslide"
    }
   },
   "source": [
    "Demo - cgi script\n",
    "===\n",
    "\n",
    "I'll modify my server to run a script instead!"
   ]
  },
  {
   "cell_type": "markdown",
   "metadata": {
    "slideshow": {
     "slide_type": "subslide"
    }
   },
   "source": [
    "`python3 -m http.server --cgi`\n",
    "---\n",
    "`python -m CGIHTTPServer`\n",
    "---"
   ]
  },
  {
   "cell_type": "markdown",
   "metadata": {
    "slideshow": {
     "slide_type": "notes"
    }
   },
   "source": [
    "modifying the script (teaching subprocess management is too much of a distraction)\n",
    "\n"
   ]
  },
  {
   "cell_type": "markdown",
   "metadata": {
    "slideshow": {
     "slide_type": "notes"
    }
   },
   "source": [
    "Exercise: How long does it take to start a Python process? CGI untenable"
   ]
  },
  {
   "cell_type": "markdown",
   "metadata": {
    "slideshow": {
     "slide_type": "notes"
    }
   },
   "source": [
    "Exercise - write a web application WSGI function\n",
    "After being presented in lecture with something like https://gist.github.com/thomasballinger/5807241 writing a function that calls a callback in it’s body should be the main tricky bit. Should take 5 minutes.\n",
    "\n",
    "Project - writing a framework: a function that takes a dictionary of paths and responses and returns the appropriate wsgi application\n",
    "This could go on for a while. The minimum project on the as described will be a function that takes a dictionary and returns a function, but all the piece will be in place to write a flask-like api for people comfortable with decorators - and helpers will all be prepared for people stuck on them.\n",
    "\n",
    "\n",
    "\n",
    "\n",
    "\n",
    "\n",
    "Part 4: JavaScript, the DOM\n",
    "The browser is a VM, the HTML is just initialization\n",
    "\n",
    "Lecture - things added to HTML HTML page can spark off a bunch of requests.\n",
    "Js, applets, flash,\n",
    "\n",
    "Exercise - write a chat history backend endpoint used by a JavaScript snippet that repeatedly makes a request and puts the text in a div\n",
    "This will take at least 10 minutes but could stretch well beyond this as beginners people likely back in their comfort zones writing HTML and CSS."
   ]
  },
  {
   "cell_type": "markdown",
   "metadata": {},
   "source": [
    "Interlude: Don’t use sockets! <blockquote class=\"twitter-tweet\" data-lang=\"en\"><p lang=\"en\" dir=\"ltr\">Sockets are the assembly language of network programming. There’s usually a much easier library to use.</p>&mdash; Ned Batchelder (@nedbat) <a href=\"https://twitter.com/nedbat/status/710144098028666880\">March 16, 2016</a></blockquote>\n",
    "<script async src=\"//platform.twitter.com/widgets.js\" charset=\"utf-8\"></script>"
   ]
  },
  {
   "cell_type": "markdown",
   "metadata": {
    "collapsed": true,
    "slideshow": {
     "slide_type": "slide"
    }
   },
   "source": [
    "Final Notes:\n",
    "* sockets are understandable\n",
    "* we didn't talk about how these work\n",
    "* please don't use these implementations\n",
    "* try things out in the interactive interpreter\n"
   ]
  },
  {
   "cell_type": "markdown",
   "metadata": {
    "collapsed": true,
    "slideshow": {
     "slide_type": "slide"
    }
   },
   "source": [
    "Resources\n",
    "===\n",
    "\n",
    "Books\n",
    "* http://www.amazon.com/gp/product/1430258543\n",
    "* http://www.amazon.com/Tangled-Web-Securing-Modern-Applications/dp/1593273886\n",
    "  \n",
    "Good resource for same material:\n",
    "* https://docs.python.org/2/howto/sockets.html"
   ]
  },
  {
   "cell_type": "code",
   "execution_count": null,
   "metadata": {
    "collapsed": true
   },
   "outputs": [],
   "source": []
  }
 ],
 "metadata": {
  "celltoolbar": "Slideshow",
  "kernelspec": {
   "display_name": "IPython (Python 3)",
   "language": "python",
   "name": "python3"
  },
  "language_info": {
   "codemirror_mode": {
    "name": "ipython",
    "version": 3
   },
   "file_extension": ".py",
   "mimetype": "text/x-python",
   "name": "python",
   "nbconvert_exporter": "python",
   "pygments_lexer": "ipython3",
   "version": "3.5.0"
  }
 },
 "nbformat": 4,
 "nbformat_minor": 0
}
