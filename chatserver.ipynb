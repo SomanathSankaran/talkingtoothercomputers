{
 "cells": [
  {
   "cell_type": "markdown",
   "metadata": {},
   "source": [
    "# Exercise Guide #2: Simple Server\n",
    "\n",
    "## Exercise: connecting to your neighbor's computer with netcat\n",
    "\n",
    "In a terminal, type:\n",
    "```\n",
    "nc -l 4000\n",
    "```\n",
    "Now you need to find out your ip address so a partner can connect to your computer. On Windows, try `ipconfig`. On mac or linux, try `ifconfig`.\n",
    "\n",
    "Once you know your ip address, tell it to your partner who can then type (but replace 123.123.123.123 with your ip address)\n",
    "```\n",
    "nc 123.123.123.123 4000\n",
    "```\n",
    "to connect to your listening netcat process.\n",
    "\n",
    "\n",
    "## Exercise: Accepting a connection\n",
    "Type exactly this code into a Python interpreter\n",
    "```\n",
    ">>> import socket\n",
    ">>> s = socket.socket()\n",
    ">>> s.bind((\"127.0.0.1\", 2000))\n",
    ">>> s.listen(10)\n",
    ">>> s.accept()\n",
    "```\n",
    "Now, in a new terminal, run this code:\n",
    "```\n",
    "nc 127.0.0.1 2000\n",
    "```\n",
    "You should see the `accept()` call succeed back in the Python interpreter! This is what I get on my machine:\n",
    "```\n",
    "(<socket.socket fd=8, family=AddressFamily.AF_INET, type=SocketKind.SOCK_STREAM, proto=0, laddr=('127.0.0.1', 2000), raddr=('127.0.0.1', 52737)>, ('127.0.0.1', 52737))\n",
    "```\n",
    "Type this code to save the return value of the `accept()` call to a variable:\n",
    "```\n",
    ">>> new_connection = _\n",
    "```\n",
    "understore is a special variable that saves the result of the last expression we evaluated in the Python intepreter for when we forget to save something to a variable, like we did here.\n",
    "\n",
    "`new_connection` now refers to a tuple with two elements in it. Check this by running\n",
    "```\n",
    ">>> len(new_connection)\n",
    "```\n",
    "to be sure. The first element is a socket - it's a new socket, similar to the ones we used in our chat server.\n",
    "\n",
    "Extract it from the tuple so we can call methods on it more easily, then send a message:\n",
    "```\n",
    ">>> new_s = new_connection[0]\n",
    ">>> new_s.send(b'Hello!\")\n",
    "```\n",
    "You should see this message show up in the terminal running netcat! You can ave a conversation back and forth - this is a two-way connection. On the Python side you'll need to call `.recv(100)` to see what's come in, just like in the chat client."
   ]
  },
  {
   "cell_type": "markdown",
   "metadata": {},
   "source": [
    "## Project: Write a simple server\n",
    "\n",
    "Write a chat server that you and other people can connect to. The code will be similar to your interactive session, but once someone connects you'll want to receive a message the send then respond. Here are some useful pieces of code:\n",
    "\n",
    "* `socket.socket()` - still creates a socket\n",
    "* `s.setsockopt(socket.SOL_SOCKET, socket.SO_REUSEADDR, 1)` - a method on the socket object to call before binding that allows you to rerun your program without waiting about 10 seconds.\n",
    "* `s.bind((ip_address, port))` - describes where to listen. If ip_address is an empty string, this will listen to connections on any network your computer is on. If ip_address is \"localhost\" or \"127.0.0.1\", then only you machine will be able to connect to this socket\n",
    "* `s.listen(5)` tells operating system to start accepting connections (and will accept 5 before telling the sixth no, that it needs to wait until you accept one of the connections first).\n",
    "* `s.accept()` returns a tuple of two elements: the socket that represents the new connection, and some information about where this connetion came from (ip address and port)\n",
    "\n",
    "\n",
    "## Extensions to this project for early finishers\n",
    "\n",
    "### Write a multi-user chat server\n",
    "\n",
    "Concurrency rears its ugly head! If we have multiple user connected, we want to listen for messages from all of them at the same time! Once again, threading, nonblocking sockets, or select are all ways forward."
   ]
  }
 ],
 "metadata": {
  "kernelspec": {
   "display_name": "Python 3",
   "language": "python",
   "name": "python3"
  },
  "language_info": {
   "codemirror_mode": {
    "name": "ipython",
    "version": 3
   },
   "file_extension": ".py",
   "mimetype": "text/x-python",
   "name": "python",
   "nbconvert_exporter": "python",
   "pygments_lexer": "ipython3",
   "version": "3.6.1"
  }
 },
 "nbformat": 4,
 "nbformat_minor": 2
}
